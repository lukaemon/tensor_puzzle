{
 "cells": [
  {
   "cell_type": "code",
   "execution_count": 1,
   "metadata": {},
   "outputs": [],
   "source": [
    "import numpy as np\n",
    "from primitive import arange, where, tensor"
   ]
  },
  {
   "cell_type": "markdown",
   "metadata": {},
   "source": [
    "## [ones](https://numpy.org/doc/stable/reference/generated/numpy.ones.html)"
   ]
  },
  {
   "cell_type": "code",
   "execution_count": 2,
   "metadata": {},
   "outputs": [
    {
     "data": {
      "text/plain": [
       "array([1., 1., 1., 1., 1.])"
      ]
     },
     "execution_count": 2,
     "metadata": {},
     "output_type": "execute_result"
    }
   ],
   "source": [
    "# example\n",
    "np.ones(5)"
   ]
  },
  {
   "cell_type": "code",
   "execution_count": 3,
   "metadata": {},
   "outputs": [],
   "source": [
    "def ones(n: int):\n",
    "    pass"
   ]
  },
  {
   "cell_type": "code",
   "execution_count": 4,
   "metadata": {},
   "outputs": [],
   "source": [
    "# ones(5)"
   ]
  },
  {
   "cell_type": "code",
   "execution_count": 5,
   "metadata": {},
   "outputs": [],
   "source": [
    "# # test\n",
    "# assert (ones(5) == np.ones(5)).all(), f\"Mismatch: {ones(5)} != {np.ones(5)}\"\n",
    "# assert (ones(0) == np.ones(0)).all(), f\"Mismatch: {ones(0)} != {np.ones(0)}\""
   ]
  },
  {
   "cell_type": "markdown",
   "metadata": {},
   "source": [
    "## [sum](https://numpy.org/doc/stable/reference/generated/numpy.sum.html)"
   ]
  },
  {
   "cell_type": "code",
   "execution_count": 6,
   "metadata": {},
   "outputs": [
    {
     "data": {
      "text/plain": [
       "(array([0, 1, 2, 3, 4]), 10)"
      ]
     },
     "execution_count": 6,
     "metadata": {},
     "output_type": "execute_result"
    }
   ],
   "source": [
    "# example\n",
    "np.arange(5), np.sum(np.arange(5))"
   ]
  },
  {
   "cell_type": "code",
   "execution_count": 7,
   "metadata": {},
   "outputs": [],
   "source": [
    "def sum(a_i):\n",
    "    pass"
   ]
  },
  {
   "cell_type": "code",
   "execution_count": 8,
   "metadata": {},
   "outputs": [],
   "source": [
    "# sum(arange(5))"
   ]
  },
  {
   "cell_type": "code",
   "execution_count": 9,
   "metadata": {},
   "outputs": [],
   "source": [
    "# # test\n",
    "# assert sum(np.array([1, 2, 3, 4])) == 10, f\"Sum mismatch: {sum(np.array([1, 2, 3, 4]))} != 10\"\n",
    "# assert sum(np.array([])) == 0, f\"Sum mismatch: {sum(np.array([]))} != 0\"\n",
    "# assert sum(np.array([-1, 1])) == 0, f\"Sum mismatch: {sum(np.array([-1, 1]))} != 0\""
   ]
  },
  {
   "cell_type": "markdown",
   "metadata": {},
   "source": [
    "## [outer](https://numpy.org/doc/stable/reference/generated/numpy.outer.html)"
   ]
  },
  {
   "cell_type": "code",
   "execution_count": 10,
   "metadata": {},
   "outputs": [
    {
     "data": {
      "text/plain": [
       "array([[0., 0., 0., 0., 0.],\n",
       "       [1., 1., 1., 1., 1.],\n",
       "       [2., 2., 2., 2., 2.]])"
      ]
     },
     "execution_count": 10,
     "metadata": {},
     "output_type": "execute_result"
    }
   ],
   "source": [
    "# example\n",
    "np.outer(np.arange(3), np.ones(5))"
   ]
  },
  {
   "cell_type": "code",
   "execution_count": 11,
   "metadata": {},
   "outputs": [],
   "source": [
    "def outer(a_i, b_j):\n",
    "    pass"
   ]
  },
  {
   "cell_type": "code",
   "execution_count": 12,
   "metadata": {},
   "outputs": [],
   "source": [
    "# outer(arange(3), ones(5))"
   ]
  },
  {
   "cell_type": "code",
   "execution_count": 13,
   "metadata": {},
   "outputs": [],
   "source": [
    "# # test\n",
    "# assert np.array_equal(outer(np.array([1, 2]), np.array([1, 2])), np.outer(np.array([1, 2]), np.array([1, 2]))), \"Outer product mismatch\"\n",
    "# assert np.array_equal(outer(np.array([0, 1]), np.array([0, 1])), np.outer(np.array([0, 1]), np.array([0, 1]))), \"Outer product mismatch\"\n",
    "# assert np.array_equal(outer(np.array([-1, 1]), np.array([-1, 1])), np.outer(np.array([-1, 1]), np.array([-1, 1]))), \"Outer product mismatch\""
   ]
  },
  {
   "cell_type": "markdown",
   "metadata": {},
   "source": [
    "## [diag](https://numpy.org/doc/stable/reference/generated/numpy.diag.html)"
   ]
  },
  {
   "cell_type": "code",
   "execution_count": 14,
   "metadata": {},
   "outputs": [
    {
     "data": {
      "text/plain": [
       "(array([[0, 1, 2],\n",
       "        [3, 4, 5],\n",
       "        [6, 7, 8]]),\n",
       " array([0, 4, 8]))"
      ]
     },
     "execution_count": 14,
     "metadata": {},
     "output_type": "execute_result"
    }
   ],
   "source": [
    "# example\n",
    "a_33 = np.arange(9).reshape((3, 3))\n",
    "a_33, np.diag(a_33)"
   ]
  },
  {
   "cell_type": "code",
   "execution_count": 15,
   "metadata": {},
   "outputs": [],
   "source": [
    "def diag(a_ii):  # input has to be square matrix\n",
    "    pass"
   ]
  },
  {
   "cell_type": "code",
   "execution_count": 16,
   "metadata": {},
   "outputs": [],
   "source": [
    "# diag(a_33)"
   ]
  },
  {
   "cell_type": "code",
   "execution_count": 17,
   "metadata": {},
   "outputs": [],
   "source": [
    "# # test\n",
    "# assert np.array_equal(diag(np.array([[1, 2], [3, 4]])), np.diag(np.array([[1, 2], [3, 4]]))), \"Diagonal extraction mismatch\"\n",
    "# assert np.array_equal(diag(np.array([[0, 1], [1, 0]])), np.diag(np.array([[0, 1], [1, 0]]))), \"Diagonal extraction mismatch\"\n",
    "# assert np.array_equal(diag(np.array([[-1, -2], [-3, -4]])), np.diag(np.array([[-1, -2], [-3, -4]]))), \"Diagonal extraction mismatch\""
   ]
  },
  {
   "cell_type": "markdown",
   "metadata": {},
   "source": [
    "## [eye](https://numpy.org/doc/stable/reference/generated/numpy.eye.html)"
   ]
  },
  {
   "cell_type": "code",
   "execution_count": 18,
   "metadata": {},
   "outputs": [
    {
     "data": {
      "text/plain": [
       "array([[1., 0., 0.],\n",
       "       [0., 1., 0.],\n",
       "       [0., 0., 1.]])"
      ]
     },
     "execution_count": 18,
     "metadata": {},
     "output_type": "execute_result"
    }
   ],
   "source": [
    "# example\n",
    "np.eye(3)"
   ]
  },
  {
   "cell_type": "code",
   "execution_count": 19,
   "metadata": {},
   "outputs": [],
   "source": [
    "def eye(n: int):\n",
    "    pass"
   ]
  },
  {
   "cell_type": "code",
   "execution_count": 20,
   "metadata": {},
   "outputs": [],
   "source": [
    "# eye(3)"
   ]
  },
  {
   "cell_type": "code",
   "execution_count": 21,
   "metadata": {},
   "outputs": [],
   "source": [
    "# # test\n",
    "# assert np.array_equal(eye(3), np.eye(3)), \"Identity matrix generation mismatch\"\n",
    "# assert np.array_equal(eye(5), np.eye(5)), \"Identity matrix generation mismatch\"\n",
    "# assert np.array_equal(eye(1), np.eye(1)), \"Identity matrix generation mismatch\""
   ]
  },
  {
   "cell_type": "markdown",
   "metadata": {},
   "source": [
    "## [triu](https://numpy.org/doc/stable/reference/generated/numpy.triu.html)"
   ]
  },
  {
   "cell_type": "code",
   "execution_count": 22,
   "metadata": {},
   "outputs": [
    {
     "data": {
      "text/plain": [
       "(array([[0, 1, 2],\n",
       "        [3, 4, 5],\n",
       "        [6, 7, 8]]),\n",
       " array([[0, 1, 2],\n",
       "        [0, 4, 5],\n",
       "        [0, 0, 8]]))"
      ]
     },
     "execution_count": 22,
     "metadata": {},
     "output_type": "execute_result"
    }
   ],
   "source": [
    "# example\n",
    "a_33 = np.arange(9).reshape((3, 3))\n",
    "a_33, np.triu(a_33)"
   ]
  },
  {
   "cell_type": "code",
   "execution_count": 23,
   "metadata": {},
   "outputs": [],
   "source": [
    "def triu(a_ii):\n",
    "    pass"
   ]
  },
  {
   "cell_type": "code",
   "execution_count": 24,
   "metadata": {},
   "outputs": [],
   "source": [
    "# triu(a_33)"
   ]
  },
  {
   "cell_type": "code",
   "execution_count": 25,
   "metadata": {},
   "outputs": [],
   "source": [
    "# # test\n",
    "# assert np.array_equal(triu(np.arange(9).reshape((3, 3))), np.triu(np.arange(9).reshape((3, 3)))), \"Upper triangle matrix generation mismatch\"\n",
    "# assert np.array_equal(triu(np.arange(4).reshape((2, 2))), np.triu(np.arange(4).reshape((2, 2)))), \"Upper triangle matrix generation mismatch\"\n",
    "# assert np.array_equal(triu(np.zeros((3, 3))), np.triu(np.zeros((3, 3)))), \"Upper triangle matrix generation mismatch\""
   ]
  },
  {
   "cell_type": "markdown",
   "metadata": {},
   "source": [
    "## [cumsum](https://numpy.org/doc/stable/reference/generated/numpy.cumsum.html)"
   ]
  },
  {
   "cell_type": "code",
   "execution_count": 26,
   "metadata": {},
   "outputs": [
    {
     "data": {
      "text/plain": [
       "array([ 1.,  2.,  3.,  4.,  5.,  6.,  7.,  8.,  9., 10.])"
      ]
     },
     "execution_count": 26,
     "metadata": {},
     "output_type": "execute_result"
    }
   ],
   "source": [
    "# example\n",
    "np.cumsum(np.ones(10))"
   ]
  },
  {
   "cell_type": "code",
   "execution_count": 27,
   "metadata": {},
   "outputs": [],
   "source": [
    "def cumsum(a_i):\n",
    "    pass"
   ]
  },
  {
   "cell_type": "code",
   "execution_count": 28,
   "metadata": {},
   "outputs": [],
   "source": [
    "# cumsum(ones(10))"
   ]
  },
  {
   "cell_type": "code",
   "execution_count": 29,
   "metadata": {},
   "outputs": [],
   "source": [
    "# # test\n",
    "# assert np.array_equal(cumsum(np.arange(10)), np.cumsum(np.arange(10))), \"Cumulative sum mismatch\"\n",
    "# assert np.array_equal(cumsum(np.zeros(10)), np.cumsum(np.zeros(10))), \"Cumulative sum mismatch for zeros\"\n",
    "# assert np.array_equal(cumsum(np.ones(10)), np.cumsum(np.ones(10))), \"Cumulative sum mismatch for ones\""
   ]
  },
  {
   "cell_type": "markdown",
   "metadata": {},
   "source": [
    "## [diff](https://numpy.org/doc/stable/reference/generated/numpy.diff.htm)"
   ]
  },
  {
   "cell_type": "code",
   "execution_count": 30,
   "metadata": {},
   "outputs": [
    {
     "data": {
      "text/plain": [
       "array([1, 1, 1, 1])"
      ]
     },
     "execution_count": 30,
     "metadata": {},
     "output_type": "execute_result"
    }
   ],
   "source": [
    "# example\n",
    "np.diff(np.arange(5))"
   ]
  },
  {
   "cell_type": "code",
   "execution_count": 31,
   "metadata": {},
   "outputs": [],
   "source": [
    "def diff(a_i):\n",
    "    pass"
   ]
  },
  {
   "cell_type": "code",
   "execution_count": 32,
   "metadata": {},
   "outputs": [],
   "source": [
    "# diff(arange(5))"
   ]
  },
  {
   "cell_type": "code",
   "execution_count": 33,
   "metadata": {},
   "outputs": [],
   "source": [
    "# # test\n",
    "# random_array = np.random.randint(0, 10, size=5)\n",
    "# assert np.array_equal(diff(random_array), np.diff(random_array)), \"Difference mismatch for random array\"\n",
    "# assert np.array_equal(diff(np.zeros(5)), np.diff(np.zeros(5))), \"Difference mismatch for zeros\"\n",
    "# assert np.array_equal(diff(np.ones(5)), np.diff(np.ones(5))), \"Difference mismatch for ones\"\n"
   ]
  },
  {
   "cell_type": "markdown",
   "metadata": {},
   "source": [
    "## [vstack](https://numpy.org/doc/stable/reference/generated/numpy.vstack.html)"
   ]
  },
  {
   "cell_type": "code",
   "execution_count": 34,
   "metadata": {},
   "outputs": [
    {
     "data": {
      "text/plain": [
       "array([[1., 1., 1., 1., 1.],\n",
       "       [0., 1., 2., 3., 4.]])"
      ]
     },
     "execution_count": 34,
     "metadata": {},
     "output_type": "execute_result"
    }
   ],
   "source": [
    "# example\n",
    "np.vstack((np.ones(5), np.arange(5)))"
   ]
  },
  {
   "cell_type": "code",
   "execution_count": 35,
   "metadata": {},
   "outputs": [],
   "source": [
    "def vstack(a_i, b_i):\n",
    "    pass"
   ]
  },
  {
   "cell_type": "code",
   "execution_count": 36,
   "metadata": {},
   "outputs": [],
   "source": [
    "# vstack(ones(5), arange(5))"
   ]
  },
  {
   "cell_type": "code",
   "execution_count": 37,
   "metadata": {},
   "outputs": [],
   "source": [
    "# # test\n",
    "# length1 = np.random.randint(1, 10)\n",
    "# assert np.array_equal(vstack(ones(length1), arange(length1)), np.vstack((ones(length1), arange(length1)))), \"vstack mismatch for ones and arange with random length\"\n",
    "\n",
    "# length2 = np.random.randint(1, 10)\n",
    "# assert np.array_equal(vstack(arange(length2), arange(length2)), np.vstack((arange(length2), arange(length2)))), \"vstack mismatch for two aranges with same random length\"\n",
    "\n",
    "# length3 = np.random.randint(1, 10)\n",
    "# assert np.array_equal(vstack(arange(length3), ones(length3)), np.vstack((arange(length3), ones(length3)))), \"vstack mismatch for arange and ones with random length\"\n"
   ]
  },
  {
   "cell_type": "markdown",
   "metadata": {},
   "source": [
    "## [roll](https://numpy.org/doc/stable/reference/generated/numpy.roll.html)"
   ]
  },
  {
   "cell_type": "code",
   "execution_count": 38,
   "metadata": {},
   "outputs": [
    {
     "data": {
      "text/plain": [
       "array([1, 2, 3, 4, 0])"
      ]
     },
     "execution_count": 38,
     "metadata": {},
     "output_type": "execute_result"
    }
   ],
   "source": [
    "# example\n",
    "np.roll(np.arange(5), shift=-1)  # negative, shift left"
   ]
  },
  {
   "cell_type": "code",
   "execution_count": 39,
   "metadata": {},
   "outputs": [],
   "source": [
    "def roll(a_i):\n",
    "    pass"
   ]
  },
  {
   "cell_type": "code",
   "execution_count": 40,
   "metadata": {},
   "outputs": [],
   "source": [
    "# roll(arange(5))"
   ]
  },
  {
   "cell_type": "code",
   "execution_count": 41,
   "metadata": {},
   "outputs": [],
   "source": [
    "# # test\n",
    "# # fmt: off\n",
    "# test_arrays = [\n",
    "#     (np.random.randint(1, 10), arange, \"arange with random length\"),\n",
    "#     (np.random.randint(1, 10), lambda x: np.random.randint(0, 100, size=x), \"random array with random length\"),\n",
    "#     (10, lambda x: np.linspace(0, 1, x), \"linspace array with fixed length\")\n",
    "# ]\n",
    "\n",
    "# for length, array_func, description in test_arrays:\n",
    "#     test_array = array_func(length)\n",
    "#     assert np.array_equal(roll(test_array), np.roll(test_array, shift=-1)), f\"roll mismatch for {description}: {length}, roll: {roll(test_array)}, np.roll: {np.roll(test_array, shift=1)}\"\n",
    "# # fmt: on"
   ]
  },
  {
   "cell_type": "markdown",
   "metadata": {},
   "source": [
    "## [flip](https://numpy.org/doc/stable/reference/generated/numpy.flip.html)"
   ]
  },
  {
   "cell_type": "code",
   "execution_count": 42,
   "metadata": {},
   "outputs": [
    {
     "data": {
      "text/plain": [
       "array([4, 3, 2, 1, 0])"
      ]
     },
     "execution_count": 42,
     "metadata": {},
     "output_type": "execute_result"
    }
   ],
   "source": [
    "# example\n",
    "np.flip(np.arange(5))"
   ]
  },
  {
   "cell_type": "code",
   "execution_count": 43,
   "metadata": {},
   "outputs": [],
   "source": [
    "def flip(a_i):\n",
    "    pass"
   ]
  },
  {
   "cell_type": "code",
   "execution_count": 44,
   "metadata": {},
   "outputs": [],
   "source": [
    "# flip(arange(5))"
   ]
  },
  {
   "cell_type": "code",
   "execution_count": 45,
   "metadata": {},
   "outputs": [],
   "source": [
    "# # test\n",
    "# # fmt: off\n",
    "# test_arrays_flip = [\n",
    "#     (arange(5), \"arange with fixed length\"),\n",
    "#     (np.random.randint(0, 100, size=10), \"random array with fixed length\"),\n",
    "#     (np.array([0, -1, -2, -3, 0, 1, 2, 3, 0]), \"array with negative numbers and zeros\")\n",
    "# ]\n",
    "\n",
    "# for test_array, description in test_arrays_flip:\n",
    "#     assert np.array_equal(flip(test_array), np.flip(test_array)), f\"flip mismatch for {description}: {test_array}, flip: {flip(test_array)}, np.flip: {np.flip(test_array)}\"\n",
    "# # fmt: on"
   ]
  },
  {
   "cell_type": "markdown",
   "metadata": {},
   "source": [
    "## [compress](https://numpy.org/doc/stable/reference/generated/numpy.compress.html)"
   ]
  },
  {
   "cell_type": "code",
   "execution_count": 46,
   "metadata": {},
   "outputs": [
    {
     "data": {
      "text/plain": [
       "array([0, 2])"
      ]
     },
     "execution_count": 46,
     "metadata": {},
     "output_type": "execute_result"
    }
   ],
   "source": [
    "# example\n",
    "np.compress(condition=tensor([True, False, True, False]), a=np.arange(4))"
   ]
  },
  {
   "cell_type": "code",
   "execution_count": 47,
   "metadata": {},
   "outputs": [],
   "source": [
    "def compress(condition_i, a_i):\n",
    "    pass"
   ]
  },
  {
   "cell_type": "code",
   "execution_count": 48,
   "metadata": {},
   "outputs": [],
   "source": [
    "# compress(tensor([True, False, True, False]), arange(4))"
   ]
  },
  {
   "cell_type": "code",
   "execution_count": 49,
   "metadata": {},
   "outputs": [],
   "source": [
    "# # test\n",
    "# # Test 1: Alternating condition\n",
    "# condition_1 = tensor([True, False, True, False])\n",
    "# test_array_1 = arange(4)\n",
    "# assert np.array_equal(compress(condition_1, test_array_1), np.compress(condition_1, test_array_1)), \"Test 1 failed: compress mismatch with np.compress for alternating condition\"\n",
    "\n",
    "# # Test 2: All true except last\n",
    "# condition_2 = tensor([True, True, True, False])\n",
    "# test_array_2 = arange(4)\n",
    "# assert np.array_equal(compress(condition_2, test_array_2), np.compress(condition_2, test_array_2)), \"Test 2 failed: compress mismatch with np.compress for all true except last\"\n",
    "\n",
    "# # Test 3: All false except last two\n",
    "# condition_3 = tensor([False, False, True, True])\n",
    "# test_array_3 = arange(4)\n",
    "# assert np.array_equal(compress(condition_3, test_array_3), np.compress(condition_3, test_array_3)), \"Test 3 failed: compress mismatch with np.compress for all false except last two\""
   ]
  },
  {
   "cell_type": "markdown",
   "metadata": {},
   "source": [
    "## pad to\n",
    "- Pad `[0, 1, 2]` to len 8 -> `[0, 1, 2, 0, 0, 0, 0, 0]`"
   ]
  },
  {
   "cell_type": "code",
   "execution_count": 50,
   "metadata": {},
   "outputs": [],
   "source": [
    "def pad_to(a_i, j: int):\n",
    "    \"\"\"pad to len j, where j >= i\"\"\"\n",
    "    pass\n"
   ]
  },
  {
   "cell_type": "code",
   "execution_count": 51,
   "metadata": {},
   "outputs": [],
   "source": [
    "# pad_to(arange(3), 8)"
   ]
  },
  {
   "cell_type": "code",
   "execution_count": 52,
   "metadata": {},
   "outputs": [],
   "source": [
    "# # test\n",
    "# padded_array = pad_to(arange(3), 8)\n",
    "# assert padded_array.shape[0] == 8, f\"Length mismatch for pad to len 8: expected 8, got {padded_array.shape[0]}\"\n",
    "# assert np.array_equal(padded_array[:3], arange(3)), \"Original elements altered in pad to len 8\"\n",
    "# assert np.all(padded_array[3:] == 0), \"Padding not zeros in pad to len 8\"\n",
    "\n",
    "# padded_array = pad_to(arange(5), 10)\n",
    "# assert padded_array.shape[0] == 10, f\"Length mismatch for pad to len 10: expected 10, got {padded_array.shape[0]}\"\n",
    "# assert np.array_equal(padded_array[:5], arange(5)), \"Original elements altered in pad to len 10\"\n",
    "# assert np.all(padded_array[5:] == 0), \"Padding not zeros in pad to len 10\"\n",
    "\n",
    "# padded_array = pad_to(np.zeros(4), 6)\n",
    "# assert padded_array.shape[0] == 6, f\"Length mismatch for pad zeros to len 6: expected 6, got {padded_array.shape[0]}\"\n",
    "# assert np.array_equal(padded_array[:4], np.zeros(4)), \"Original elements altered in pad zeros to len 6\"\n",
    "# assert np.all(padded_array[4:] == 0), \"Padding not zeros in pad zeros to len 6\"\n"
   ]
  },
  {
   "cell_type": "markdown",
   "metadata": {},
   "source": [
    "## [sequence mask](https://www.tensorflow.org/api_docs/python/tf/sequence_mask)\n",
    "\n",
    "```python\n",
    "tf.sequence_mask(\n",
    "    lengths,\n",
    "    maxlen=None,\n",
    ")\n",
    "\n",
    "tf.sequence_mask([1, 3, 2], 5)  # [[True, False, False, False, False],\n",
    "                                #  [True, True, True, False, False],\n",
    "                                #  [True, True, False, False, False]]"
   ]
  },
  {
   "cell_type": "code",
   "execution_count": 53,
   "metadata": {},
   "outputs": [],
   "source": [
    "def seq_mask(len_B: list[int], maxlen: int):\n",
    "    \"\"\"assume maxlen >= len of longest seq in the len_B\n",
    "    B: batch size\n",
    "    maxlen: pad the batch to this len\n",
    "    \"\"\"\n",
    "    pass"
   ]
  },
  {
   "cell_type": "code",
   "execution_count": 54,
   "metadata": {},
   "outputs": [],
   "source": [
    "# seq_mask(tensor([1, 3, 2]), 5)"
   ]
  },
  {
   "cell_type": "code",
   "execution_count": 55,
   "metadata": {},
   "outputs": [],
   "source": [
    "# # test\n",
    "# result_1 = seq_mask(tensor([1, 3, 2]), 5)\n",
    "# expected_1 = np.array([[True, False, False, False, False],\n",
    "#                         [True, True, True, False, False],\n",
    "#                         [True, True, False, False, False]])\n",
    "# assert np.array_equal(result_1, expected_1), f\"Test 1 failed: expected {expected_1}, got {result_1}\"\n",
    "\n",
    "# result_2 = seq_mask(tensor([0, 4, 1]), 4)\n",
    "# expected_2 = np.array([[False, False, False, False],\n",
    "#                         [True, True, True, True],\n",
    "#                         [True, False, False, False]])\n",
    "# assert np.array_equal(result_2, expected_2), f\"Test 2 failed: expected {expected_2}, got {result_2}\"\n",
    "\n",
    "# result_3 = seq_mask(tensor([5]), 5)\n",
    "# expected_3 = np.array([[True, True, True, True, True]])\n",
    "# assert np.array_equal(result_3, expected_3), f\"Test 3 failed: expected {expected_3}, got {result_3}\""
   ]
  },
  {
   "cell_type": "markdown",
   "metadata": {},
   "source": [
    "## [bincount](https://numpy.org/doc/stable/reference/generated/numpy.bincount.html)"
   ]
  },
  {
   "cell_type": "code",
   "execution_count": 56,
   "metadata": {},
   "outputs": [
    {
     "data": {
      "text/plain": [
       "array([1, 3, 1, 1, 0, 0, 0, 1])"
      ]
     },
     "execution_count": 56,
     "metadata": {},
     "output_type": "execute_result"
    }
   ],
   "source": [
    "# example\n",
    "np.bincount(np.array([0, 1, 1, 3, 2, 1, 7]))"
   ]
  },
  {
   "cell_type": "code",
   "execution_count": 57,
   "metadata": {},
   "outputs": [],
   "source": [
    "def bincount(a_i):\n",
    "    pass"
   ]
  },
  {
   "cell_type": "code",
   "execution_count": 58,
   "metadata": {},
   "outputs": [],
   "source": [
    "# bincount(tensor([0, 1, 1, 3, 2, 1, 7]))"
   ]
  },
  {
   "cell_type": "code",
   "execution_count": 59,
   "metadata": {},
   "outputs": [],
   "source": [
    "# # test\n",
    "# my_result_1 = bincount(tensor([0, 1, 1, 3, 2, 1, 7]))\n",
    "# np_result_1 = np.bincount(np.array([0, 1, 1, 3, 2, 1, 7]))\n",
    "# assert np.array_equal(my_result_1, np_result_1), f\"Test 1 failed: expected {np_result_1}, got {my_result_1}\"\n",
    "\n",
    "# my_result_2 = bincount(tensor([2, 3, 3, 2, 4]))\n",
    "# np_result_2 = np.bincount(np.array([2, 3, 3, 2, 4]))\n",
    "# assert np.array_equal(my_result_2, np_result_2), f\"Test 2 failed: expected {np_result_2}, got {my_result_2}\"\n",
    "\n",
    "# my_result_3 = bincount(tensor([0, 0, 0]))\n",
    "# np_result_3 = np.bincount(np.array([0, 0, 0]))\n",
    "# assert np.array_equal(my_result_3, np_result_3), f\"Test 3 failed: expected {np_result_3}, got {my_result_3}\"\n"
   ]
  },
  {
   "cell_type": "markdown",
   "metadata": {},
   "source": [
    "## [scatter add](https://pytorch-scatter.readthedocs.io/en/1.3.0/functions/add.html)\n",
    "![](https://raw.githubusercontent.com/rusty1s/pytorch_scatter/master/docs/source/_figures/add.svg?sanitize=true)"
   ]
  },
  {
   "cell_type": "code",
   "execution_count": 60,
   "metadata": {},
   "outputs": [],
   "source": [
    "def scatter_add(a_i, index_i):\n",
    "    pass  "
   ]
  },
  {
   "cell_type": "code",
   "execution_count": 61,
   "metadata": {},
   "outputs": [],
   "source": [
    "# a = tensor([5, 1, 7, 2, 3, 2, 1, 3])\n",
    "# index = tensor([0, 0, 1, 0, 2, 2, 3, 3])\n",
    "\n",
    "# scatter_add(a, index)"
   ]
  },
  {
   "cell_type": "code",
   "execution_count": 62,
   "metadata": {},
   "outputs": [],
   "source": [
    "# # test\n",
    "# result_1 = scatter_add(tensor([5, 1, 7, 2, 3, 2, 1, 3]), tensor([0, 0, 1, 0, 2, 2, 3, 3]))\n",
    "# expected_1 = np.array([8, 7, 5, 4])\n",
    "# assert np.array_equal(result_1, expected_1), f\"Test 1 failed: expected {expected_1}, got {result_1}\"\n",
    "\n",
    "# result_2 = scatter_add(tensor([2, 4, 1, 3]), tensor([1, 1, 0, 1]))\n",
    "# expected_2 = np.array([1, 9])\n",
    "# assert np.array_equal(result_2, expected_2), f\"Test 2 failed: expected {expected_2}, got {result_2}\"\n",
    "\n",
    "# result_3 = scatter_add(tensor([0, 0, 0, 0]), tensor([0, 1, 2, 3]))\n",
    "# expected_3 = np.array([0, 0, 0, 0])\n",
    "# assert np.array_equal(result_3, expected_3), f\"Test 3 failed: expected {expected_3}, got {result_3}\""
   ]
  },
  {
   "cell_type": "markdown",
   "metadata": {},
   "source": [
    "## [flattern](https://numpy.org/doc/stable/reference/generated/numpy.ndarray.flatten.html)"
   ]
  },
  {
   "cell_type": "code",
   "execution_count": 63,
   "metadata": {},
   "outputs": [
    {
     "data": {
      "text/plain": [
       "(array([[ 0,  1,  2,  3],\n",
       "        [ 4,  5,  6,  7],\n",
       "        [ 8,  9, 10, 11]]),\n",
       " array([ 0,  1,  2,  3,  4,  5,  6,  7,  8,  9, 10, 11]))"
      ]
     },
     "execution_count": 63,
     "metadata": {},
     "output_type": "execute_result"
    }
   ],
   "source": [
    "# example\n",
    "a = np.arange(12).reshape((3, 4))\n",
    "a, a.flatten()"
   ]
  },
  {
   "cell_type": "code",
   "execution_count": 64,
   "metadata": {},
   "outputs": [],
   "source": [
    "def flatten(a_ij):\n",
    "    pass"
   ]
  },
  {
   "cell_type": "code",
   "execution_count": 65,
   "metadata": {},
   "outputs": [],
   "source": [
    "# flatten(a)"
   ]
  },
  {
   "cell_type": "code",
   "execution_count": 66,
   "metadata": {},
   "outputs": [],
   "source": [
    "# # test\n",
    "# a_test_1 = np.array([[1, 2], [3, 4]])\n",
    "# expected_1 = a_test_1.flatten()\n",
    "# result_1 = flatten(a_test_1)\n",
    "# assert np.array_equal(result_1, expected_1), f\"Test 1 failed: expected {expected_1}, got {result_1}\"\n",
    "\n",
    "# a_test_2 = np.array([[0, 0, 0], [0, 0, 0]])\n",
    "# expected_2 = a_test_2.flatten()\n",
    "# result_2 = flatten(a_test_2)\n",
    "# assert np.array_equal(result_2, expected_2), f\"Test 2 failed: expected {expected_2}, got {result_2}\"\n",
    "\n",
    "# a_test_3 = np.array([[9]])\n",
    "# expected_3 = a_test_3.flatten()\n",
    "# result_3 = flatten(a_test_3)\n",
    "# assert np.array_equal(result_3, expected_3), f\"Test 3 failed: expected {expected_3}, got {result_3}\""
   ]
  },
  {
   "cell_type": "markdown",
   "metadata": {},
   "source": [
    "## [linspace](https://numpy.org/doc/stable/reference/generated/numpy.linspace.html)"
   ]
  },
  {
   "cell_type": "code",
   "execution_count": 67,
   "metadata": {},
   "outputs": [
    {
     "data": {
      "text/plain": [
       "array([2.  , 2.25, 2.5 , 2.75, 3.  ])"
      ]
     },
     "execution_count": 67,
     "metadata": {},
     "output_type": "execute_result"
    }
   ],
   "source": [
    "# example\n",
    "np.linspace(2, 3, 5)"
   ]
  },
  {
   "cell_type": "code",
   "execution_count": 68,
   "metadata": {},
   "outputs": [],
   "source": [
    "def linspace(start, stop, n: int):\n",
    "    \"\"\"inclusive for both start and stop\"\"\"\n",
    "    pass"
   ]
  },
  {
   "cell_type": "code",
   "execution_count": 69,
   "metadata": {},
   "outputs": [],
   "source": [
    "# linspace(2, 3, 5)"
   ]
  },
  {
   "cell_type": "code",
   "execution_count": 70,
   "metadata": {},
   "outputs": [],
   "source": [
    "# # test\n",
    "# test_1_start, test_1_stop, test_1_n = -10, 0, 5\n",
    "# expected_1 = np.linspace(test_1_start, test_1_stop, test_1_n)\n",
    "# result_1 = linspace(test_1_start, test_1_stop, test_1_n)\n",
    "# assert np.allclose(result_1, expected_1), f\"Test 1 failed: expected {expected_1}, got {result_1}\"\n",
    "\n",
    "# test_2_start, test_2_stop, test_2_n = 0, 100, 20\n",
    "# expected_2 = np.linspace(test_2_start, test_2_stop, test_2_n)\n",
    "# result_2 = linspace(test_2_start, test_2_stop, test_2_n)\n",
    "# assert np.allclose(result_2, expected_2), f\"Test 2 failed: expected {expected_2}, got {result_2}\"\n",
    "\n",
    "# test_3_start, test_3_stop, test_3_n = -50, 50, 2\n",
    "# expected_3 = np.linspace(test_3_start, test_3_stop, test_3_n)\n",
    "# result_3 = linspace(test_3_start, test_3_stop, test_3_n)\n",
    "# assert np.allclose(result_3, expected_3), f\"Test 3 failed: expected {expected_3}, got {result_3}\""
   ]
  },
  {
   "cell_type": "markdown",
   "metadata": {},
   "source": [
    "## [heaviside](https://numpy.org/doc/stable/reference/generated/numpy.heaviside.html)\n",
    "```python\n",
    "                      0   if x1 < 0\n",
    "heaviside(x1, x2) =  x2   if x1 == 0\n",
    "                      1   if x1 > 0\n",
    "```"
   ]
  },
  {
   "cell_type": "code",
   "execution_count": 71,
   "metadata": {},
   "outputs": [
    {
     "data": {
      "text/plain": [
       "array([0., 1., 1.])"
      ]
     },
     "execution_count": 71,
     "metadata": {},
     "output_type": "execute_result"
    }
   ],
   "source": [
    "np.heaviside([-1.5, 0, 2.0], 1)"
   ]
  },
  {
   "cell_type": "code",
   "execution_count": 72,
   "metadata": {},
   "outputs": [],
   "source": [
    "def heaviside(a_i, b):\n",
    "    pass"
   ]
  },
  {
   "cell_type": "code",
   "execution_count": 73,
   "metadata": {},
   "outputs": [],
   "source": [
    "# heaviside(tensor([-1.5, 0, 2.0]), 1)"
   ]
  },
  {
   "cell_type": "code",
   "execution_count": 74,
   "metadata": {},
   "outputs": [],
   "source": [
    "# # test\n",
    "# test_1_input = np.array([-2.5, 0, 3.5])\n",
    "# expected_1 = np.heaviside(test_1_input, 0.5)\n",
    "# result_1 = heaviside(test_1_input, 0.5)\n",
    "# assert np.allclose(result_1, expected_1), f\"Test 1 failed: expected {expected_1}, got {result_1}\"\n",
    "\n",
    "# test_2_input = np.array([-100, -50, 0, 50, 100])\n",
    "# expected_2 = np.heaviside(test_2_input, 0.8)\n",
    "# result_2 = heaviside(test_2_input, 0.8)\n",
    "# assert np.allclose(result_2, expected_2), f\"Test 2 failed: expected {expected_2}, got {result_2}\"\n",
    "\n",
    "# test_3_input = np.array([0])\n",
    "# expected_3 = np.heaviside(test_3_input, 0)\n",
    "# result_3 = heaviside(test_3_input, 0)\n",
    "# assert np.allclose(result_3, expected_3), f\"Test 3 failed: expected {expected_3}, got {result_3}\""
   ]
  },
  {
   "cell_type": "markdown",
   "metadata": {},
   "source": [
    "## [repeat(1d)](https://numpy.org/doc/stable/reference/generated/numpy.tile.html)\n",
    "\n",
    "The effect of `np.tile`, but only expand on `dim=0`. \n"
   ]
  },
  {
   "cell_type": "code",
   "execution_count": 75,
   "metadata": {},
   "outputs": [
    {
     "data": {
      "text/plain": [
       "array([[0, 1, 2],\n",
       "       [0, 1, 2],\n",
       "       [0, 1, 2],\n",
       "       [0, 1, 2],\n",
       "       [0, 1, 2]])"
      ]
     },
     "execution_count": 75,
     "metadata": {},
     "output_type": "execute_result"
    }
   ],
   "source": [
    "# example\n",
    "np.tile(np.arange(3), (5, 1))"
   ]
  },
  {
   "cell_type": "code",
   "execution_count": 76,
   "metadata": {},
   "outputs": [],
   "source": [
    "def repeat(a_i, n: int):\n",
    "    pass"
   ]
  },
  {
   "cell_type": "code",
   "execution_count": 77,
   "metadata": {},
   "outputs": [],
   "source": [
    "# repeat(arange(3), 5)"
   ]
  },
  {
   "cell_type": "code",
   "execution_count": 78,
   "metadata": {},
   "outputs": [],
   "source": [
    "# # test\n",
    "# test_1_input = arange(4)\n",
    "# n_1 = 3\n",
    "# expected_1 = np.tile(test_1_input, (n_1, 1))\n",
    "# result_1 = repeat(test_1_input, n_1)\n",
    "# assert np.array_equal(result_1, expected_1), f\"Test 1 failed: expected {expected_1}, got {result_1}\"\n",
    "\n",
    "# test_2_input = tensor([5])\n",
    "# n_2 = 10\n",
    "# expected_2 = np.tile(test_2_input, (n_2, 1))\n",
    "# result_2 = repeat(test_2_input, n_2)\n",
    "# assert np.array_equal(result_2, expected_2), f\"Test 2 failed: expected {expected_2}, got {result_2}\"\n",
    "\n",
    "# test_3_input = linspace(0, 1, 5)\n",
    "# n_3 = 2\n",
    "# expected_3 = np.tile(test_3_input, (n_3, 1))\n",
    "# result_3 = repeat(test_3_input, n_3)\n",
    "# assert np.array_equal(result_3, expected_3), f\"Test 3 failed: expected {expected_3}, got {result_3}\"\n"
   ]
  },
  {
   "cell_type": "markdown",
   "metadata": {},
   "source": [
    "# [bucketize](https://pytorch.org/docs/stable/generated/torch.bucketize.html)\n",
    "\n",
    "Returns the **indices** of the buckets to which each value in the input belongs.\n",
    "\n",
    "```python\n",
    "a = torch.tensor([3, 6, 9])\n",
    "boundary = torch.tensor([1, 3, 5, 7, 9])\n",
    "\n",
    "torch.bucketize(a, boundary) -> tensor([1, 3, 4])\n",
    "```"
   ]
  },
  {
   "cell_type": "code",
   "execution_count": 79,
   "metadata": {},
   "outputs": [],
   "source": [
    "def bucketize(a_i, boundary_j):\n",
    "    \"\"\"boundary has to be in monotonically increasing order.\"\"\"\n",
    "    pass"
   ]
  },
  {
   "cell_type": "code",
   "execution_count": 80,
   "metadata": {},
   "outputs": [],
   "source": [
    "# a = tensor([3, 6, 9])\n",
    "# boundary = tensor([1, 3, 5, 7, 9])\n",
    "\n",
    "# bucketize(a, boundary)"
   ]
  },
  {
   "cell_type": "code",
   "execution_count": 81,
   "metadata": {},
   "outputs": [],
   "source": [
    "# # test\n",
    "# test_1_input = tensor([0, 5, 10])\n",
    "# boundary_1 = tensor([0, 3, 6, 9])\n",
    "# expected_1 = tensor([0, 2, 4])\n",
    "# result_1 = bucketize(test_1_input, boundary_1)\n",
    "# assert np.array_equal(result_1, expected_1), f\"Test 1 failed: expected {expected_1}, got {result_1}\"\n",
    "\n",
    "# test_2_input = tensor([-5, 0, 5, 10])\n",
    "# boundary_2 = tensor([-10, -5, 0, 5, 10])\n",
    "# expected_2 = tensor([1, 2, 3, 4])\n",
    "# result_2 = bucketize(test_2_input, boundary_2)\n",
    "# assert np.array_equal(result_2, expected_2), f\"Test 2 failed: expected {expected_2}, got {result_2}\"\n",
    "\n",
    "# test_3_input = tensor([1, 2, 3, 4, 5])\n",
    "# boundary_3 = tensor([1, 3, 5])\n",
    "# expected_3 = tensor([0, 1, 1, 2, 2])\n",
    "# result_3 = bucketize(test_3_input, boundary_3)\n",
    "# assert np.array_equal(result_3, expected_3), f\"Test 3 failed: expected {expected_3}, got {result_3}\"\n"
   ]
  },
  {
   "cell_type": "code",
   "execution_count": null,
   "metadata": {},
   "outputs": [],
   "source": []
  }
 ],
 "metadata": {
  "kernelspec": {
   "display_name": "lab",
   "language": "python",
   "name": "python3"
  },
  "language_info": {
   "codemirror_mode": {
    "name": "ipython",
    "version": 3
   },
   "file_extension": ".py",
   "mimetype": "text/x-python",
   "name": "python",
   "nbconvert_exporter": "python",
   "pygments_lexer": "ipython3",
   "version": "3.11.8"
  }
 },
 "nbformat": 4,
 "nbformat_minor": 2
}
