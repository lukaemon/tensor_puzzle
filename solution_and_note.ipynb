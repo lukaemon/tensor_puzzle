{
 "cells": [
  {
   "cell_type": "code",
   "execution_count": 1,
   "metadata": {},
   "outputs": [],
   "source": [
    "import numpy as np\n",
    "from primitive import arange, where, tensor"
   ]
  },
  {
   "cell_type": "markdown",
   "metadata": {},
   "source": [
    "## [ones](https://numpy.org/doc/stable/reference/generated/numpy.ones.html)\n",
    "- To think in tensor way, replace traditional iterative programming primitives with basic tensor ops. \n",
    "- `arange` and `broadcast` to replace `for loop`. \n",
    "- `where` to replace `if-else`. "
   ]
  },
  {
   "cell_type": "code",
   "execution_count": 2,
   "metadata": {},
   "outputs": [
    {
     "data": {
      "text/plain": [
       "array([1., 1., 1., 1., 1.])"
      ]
     },
     "execution_count": 2,
     "metadata": {},
     "output_type": "execute_result"
    }
   ],
   "source": [
    "# example\n",
    "np.ones(5)"
   ]
  },
  {
   "cell_type": "code",
   "execution_count": 3,
   "metadata": {},
   "outputs": [],
   "source": [
    "# v1\n",
    "# def ones(n: int):\n",
    "#     return arange(n) * 0 + 1\n",
    "\n",
    "\n",
    "# v2\n",
    "def ones(n: int):\n",
    "    return where(arange(n) == 1, 1, 1)"
   ]
  },
  {
   "cell_type": "code",
   "execution_count": 4,
   "metadata": {},
   "outputs": [
    {
     "data": {
      "text/plain": [
       "array([1, 1, 1, 1, 1])"
      ]
     },
     "execution_count": 4,
     "metadata": {},
     "output_type": "execute_result"
    }
   ],
   "source": [
    "ones(5)"
   ]
  },
  {
   "cell_type": "code",
   "execution_count": 5,
   "metadata": {},
   "outputs": [],
   "source": [
    "# test\n",
    "assert (ones(5) == np.ones(5)).all(), f\"Mismatch: {ones(5)} != {np.ones(5)}\"\n",
    "assert (ones(0) == np.ones(0)).all(), f\"Mismatch: {ones(0)} != {np.ones(0)}\""
   ]
  },
  {
   "cell_type": "markdown",
   "metadata": {},
   "source": [
    "## [sum](https://numpy.org/doc/stable/reference/generated/numpy.sum.html)\n",
    "- Think about `@`, which could be `matmul` or `dot product`, to reduce dimension. "
   ]
  },
  {
   "cell_type": "code",
   "execution_count": 6,
   "metadata": {},
   "outputs": [
    {
     "data": {
      "text/plain": [
       "(array([0, 1, 2, 3, 4]), 10)"
      ]
     },
     "execution_count": 6,
     "metadata": {},
     "output_type": "execute_result"
    }
   ],
   "source": [
    "# example\n",
    "arange(5), np.sum(arange(5))"
   ]
  },
  {
   "cell_type": "code",
   "execution_count": 7,
   "metadata": {},
   "outputs": [],
   "source": [
    "# v1\n",
    "def sum(a_i):\n",
    "    i = a_i.shape[0]\n",
    "    return a_i @ ones(i)"
   ]
  },
  {
   "cell_type": "code",
   "execution_count": 8,
   "metadata": {},
   "outputs": [
    {
     "data": {
      "text/plain": [
       "10"
      ]
     },
     "execution_count": 8,
     "metadata": {},
     "output_type": "execute_result"
    }
   ],
   "source": [
    "sum(arange(5))"
   ]
  },
  {
   "cell_type": "code",
   "execution_count": 9,
   "metadata": {},
   "outputs": [],
   "source": [
    "# test\n",
    "assert sum(np.array([1, 2, 3, 4])) == 10, f\"Sum mismatch: {sum(np.array([1, 2, 3, 4]))} != 10\"\n",
    "assert sum(np.array([])) == 0, f\"Sum mismatch: {sum(np.array([]))} != 0\"\n",
    "assert sum(np.array([-1, 1])) == 0, f\"Sum mismatch: {sum(np.array([-1, 1]))} != 0\""
   ]
  },
  {
   "cell_type": "markdown",
   "metadata": {},
   "source": [
    "## [outer](https://numpy.org/doc/stable/reference/generated/numpy.outer.html)\n",
    "- `a[:, None]` adds a `dim=1` at the end. \n",
    "- Think about adding dummy dimension and use broadcast rule to expand the dimension. "
   ]
  },
  {
   "cell_type": "code",
   "execution_count": 10,
   "metadata": {},
   "outputs": [
    {
     "data": {
      "text/plain": [
       "array([[0, 0, 0, 0, 0],\n",
       "       [1, 1, 1, 1, 1],\n",
       "       [2, 2, 2, 2, 2]])"
      ]
     },
     "execution_count": 10,
     "metadata": {},
     "output_type": "execute_result"
    }
   ],
   "source": [
    "# example\n",
    "np.outer(arange(3), ones(5))"
   ]
  },
  {
   "cell_type": "code",
   "execution_count": 11,
   "metadata": {},
   "outputs": [],
   "source": [
    "def outer(a_i, b_j):\n",
    "    return a_i[:, None] * b_j"
   ]
  },
  {
   "cell_type": "code",
   "execution_count": 12,
   "metadata": {},
   "outputs": [
    {
     "data": {
      "text/plain": [
       "array([[0, 0, 0, 0, 0],\n",
       "       [1, 1, 1, 1, 1],\n",
       "       [2, 2, 2, 2, 2]])"
      ]
     },
     "execution_count": 12,
     "metadata": {},
     "output_type": "execute_result"
    }
   ],
   "source": [
    "outer(arange(3), ones(5))"
   ]
  },
  {
   "cell_type": "code",
   "execution_count": 13,
   "metadata": {},
   "outputs": [],
   "source": [
    "# test\n",
    "assert np.array_equal(outer(np.array([1, 2]), np.array([1, 2])), np.outer(np.array([1, 2]), np.array([1, 2]))), \"Outer product mismatch\"\n",
    "assert np.array_equal(outer(np.array([0, 1]), np.array([0, 1])), np.outer(np.array([0, 1]), np.array([0, 1]))), \"Outer product mismatch\"\n",
    "assert np.array_equal(outer(np.array([-1, 1]), np.array([-1, 1])), np.outer(np.array([-1, 1]), np.array([-1, 1]))), \"Outer product mismatch\""
   ]
  },
  {
   "cell_type": "markdown",
   "metadata": {},
   "source": [
    "## [diag](https://numpy.org/doc/stable/reference/generated/numpy.diag.html)\n",
    "- Think about indexing for retrival puzzle. "
   ]
  },
  {
   "cell_type": "code",
   "execution_count": 14,
   "metadata": {},
   "outputs": [
    {
     "data": {
      "text/plain": [
       "(array([[0, 1, 2],\n",
       "        [3, 4, 5],\n",
       "        [6, 7, 8]]),\n",
       " array([0, 4, 8]))"
      ]
     },
     "execution_count": 14,
     "metadata": {},
     "output_type": "execute_result"
    }
   ],
   "source": [
    "# example\n",
    "a_33 = arange(9).reshape((3, 3))\n",
    "a_33, np.diag(a_33)"
   ]
  },
  {
   "cell_type": "code",
   "execution_count": 15,
   "metadata": {},
   "outputs": [],
   "source": [
    "def diag(a_ii):  # input has to be square matrix\n",
    "    i = a_ii.shape[0]\n",
    "    return a_ii[arange(i), arange(i)]"
   ]
  },
  {
   "cell_type": "code",
   "execution_count": 16,
   "metadata": {},
   "outputs": [
    {
     "data": {
      "text/plain": [
       "array([0, 4, 8])"
      ]
     },
     "execution_count": 16,
     "metadata": {},
     "output_type": "execute_result"
    }
   ],
   "source": [
    "diag(a_33)"
   ]
  },
  {
   "cell_type": "code",
   "execution_count": 17,
   "metadata": {},
   "outputs": [],
   "source": [
    "# test\n",
    "assert np.array_equal(diag(np.array([[1, 2], [3, 4]])), np.diag(np.array([[1, 2], [3, 4]]))), \"Diagonal extraction mismatch\"\n",
    "assert np.array_equal(diag(np.array([[0, 1], [1, 0]])), np.diag(np.array([[0, 1], [1, 0]]))), \"Diagonal extraction mismatch\"\n",
    "assert np.array_equal(diag(np.array([[-1, -2], [-3, -4]])), np.diag(np.array([[-1, -2], [-3, -4]]))), \"Diagonal extraction mismatch\""
   ]
  },
  {
   "cell_type": "markdown",
   "metadata": {},
   "source": [
    "## [eye](https://numpy.org/doc/stable/reference/generated/numpy.eye.html)\n",
    "- Semantically, it's similar to `outer` above. Add a dim plus simple op to expand to 2d, then use `where` to cast `bool` to `int` for final result. "
   ]
  },
  {
   "cell_type": "code",
   "execution_count": 18,
   "metadata": {},
   "outputs": [
    {
     "data": {
      "text/plain": [
       "array([[1., 0., 0.],\n",
       "       [0., 1., 0.],\n",
       "       [0., 0., 1.]])"
      ]
     },
     "execution_count": 18,
     "metadata": {},
     "output_type": "execute_result"
    }
   ],
   "source": [
    "# example\n",
    "np.eye(3)"
   ]
  },
  {
   "cell_type": "code",
   "execution_count": 19,
   "metadata": {},
   "outputs": [],
   "source": [
    "def eye(n: int):\n",
    "    return where(arange(n)[:, None] == arange(n), 1, 0)"
   ]
  },
  {
   "cell_type": "code",
   "execution_count": 20,
   "metadata": {},
   "outputs": [
    {
     "data": {
      "text/plain": [
       "array([[1, 0, 0],\n",
       "       [0, 1, 0],\n",
       "       [0, 0, 1]])"
      ]
     },
     "execution_count": 20,
     "metadata": {},
     "output_type": "execute_result"
    }
   ],
   "source": [
    "eye(3)"
   ]
  },
  {
   "cell_type": "code",
   "execution_count": 21,
   "metadata": {},
   "outputs": [],
   "source": [
    "# test\n",
    "assert np.array_equal(eye(3), np.eye(3)), \"Identity matrix generation mismatch\"\n",
    "assert np.array_equal(eye(5), np.eye(5)), \"Identity matrix generation mismatch\"\n",
    "assert np.array_equal(eye(1), np.eye(1)), \"Identity matrix generation mismatch\""
   ]
  },
  {
   "cell_type": "markdown",
   "metadata": {},
   "source": [
    "## [triu](https://numpy.org/doc/stable/reference/generated/numpy.triu.html)\n",
    "- In broader context, it is the key to `attention` mechanism, and attention mask. \n",
    "- Semantically, use same trick of `eye`. "
   ]
  },
  {
   "cell_type": "code",
   "execution_count": 22,
   "metadata": {},
   "outputs": [
    {
     "data": {
      "text/plain": [
       "(array([[0, 1, 2],\n",
       "        [3, 4, 5],\n",
       "        [6, 7, 8]]),\n",
       " array([[0, 1, 2],\n",
       "        [0, 4, 5],\n",
       "        [0, 0, 8]]))"
      ]
     },
     "execution_count": 22,
     "metadata": {},
     "output_type": "execute_result"
    }
   ],
   "source": [
    "# example\n",
    "a_33 = arange(9).reshape((3, 3))\n",
    "a_33, np.triu(a_33)"
   ]
  },
  {
   "cell_type": "code",
   "execution_count": 23,
   "metadata": {},
   "outputs": [],
   "source": [
    "def triu(a_ii):\n",
    "    i = a_ii.shape[0]\n",
    "    cond = arange(i)[:, None] <= arange(i)\n",
    "    return where(cond, a_ii, 0)"
   ]
  },
  {
   "cell_type": "code",
   "execution_count": 24,
   "metadata": {},
   "outputs": [
    {
     "data": {
      "text/plain": [
       "array([[0, 1, 2],\n",
       "       [0, 4, 5],\n",
       "       [0, 0, 8]])"
      ]
     },
     "execution_count": 24,
     "metadata": {},
     "output_type": "execute_result"
    }
   ],
   "source": [
    "triu(a_33)"
   ]
  },
  {
   "cell_type": "code",
   "execution_count": 25,
   "metadata": {},
   "outputs": [],
   "source": [
    "# test\n",
    "assert np.array_equal(triu(np.arange(9).reshape((3, 3))), np.triu(np.arange(9).reshape((3, 3)))), \"Upper triangle matrix generation mismatch\"\n",
    "assert np.array_equal(triu(np.arange(4).reshape((2, 2))), np.triu(np.arange(4).reshape((2, 2)))), \"Upper triangle matrix generation mismatch\"\n",
    "assert np.array_equal(triu(np.zeros((3, 3))), np.triu(np.zeros((3, 3)))), \"Upper triangle matrix generation mismatch\""
   ]
  },
  {
   "cell_type": "markdown",
   "metadata": {},
   "source": [
    "## [cumsum](https://numpy.org/doc/stable/reference/generated/numpy.cumsum.html)"
   ]
  },
  {
   "cell_type": "code",
   "execution_count": 26,
   "metadata": {},
   "outputs": [
    {
     "data": {
      "text/plain": [
       "array([ 1,  2,  3,  4,  5,  6,  7,  8,  9, 10])"
      ]
     },
     "execution_count": 26,
     "metadata": {},
     "output_type": "execute_result"
    }
   ],
   "source": [
    "# example\n",
    "np.cumsum(ones(10))"
   ]
  },
  {
   "cell_type": "code",
   "execution_count": 27,
   "metadata": {},
   "outputs": [],
   "source": [
    "def cumsum(a_i):\n",
    "    i = a_i.shape[0]\n",
    "    return a_i @ triu(ones(i)[:, None] * ones(i))"
   ]
  },
  {
   "cell_type": "code",
   "execution_count": 28,
   "metadata": {},
   "outputs": [
    {
     "data": {
      "text/plain": [
       "array([ 1,  2,  3,  4,  5,  6,  7,  8,  9, 10])"
      ]
     },
     "execution_count": 28,
     "metadata": {},
     "output_type": "execute_result"
    }
   ],
   "source": [
    "cumsum(ones(10))"
   ]
  },
  {
   "cell_type": "code",
   "execution_count": 29,
   "metadata": {},
   "outputs": [],
   "source": [
    "# test\n",
    "assert np.array_equal(cumsum(np.arange(10)), np.cumsum(np.arange(10))), \"Cumulative sum mismatch\"\n",
    "assert np.array_equal(cumsum(np.zeros(10)), np.cumsum(np.zeros(10))), \"Cumulative sum mismatch for zeros\"\n",
    "assert np.array_equal(cumsum(np.ones(10)), np.cumsum(np.ones(10))), \"Cumulative sum mismatch for ones\""
   ]
  },
  {
   "cell_type": "markdown",
   "metadata": {},
   "source": [
    "## [diff](https://numpy.org/doc/stable/reference/generated/numpy.diff.htm)"
   ]
  },
  {
   "cell_type": "code",
   "execution_count": 30,
   "metadata": {},
   "outputs": [
    {
     "data": {
      "text/plain": [
       "array([1, 1, 1, 1])"
      ]
     },
     "execution_count": 30,
     "metadata": {},
     "output_type": "execute_result"
    }
   ],
   "source": [
    "# example\n",
    "np.diff(arange(5))"
   ]
  },
  {
   "cell_type": "code",
   "execution_count": 31,
   "metadata": {},
   "outputs": [],
   "source": [
    "def diff(a_i):\n",
    "    i = a_i.shape[0]\n",
    "    return a_i[arange(i)[1:]] - a_i[arange(i)[:-1]]"
   ]
  },
  {
   "cell_type": "code",
   "execution_count": 32,
   "metadata": {},
   "outputs": [
    {
     "data": {
      "text/plain": [
       "array([1, 1, 1, 1])"
      ]
     },
     "execution_count": 32,
     "metadata": {},
     "output_type": "execute_result"
    }
   ],
   "source": [
    "diff(arange(5))"
   ]
  },
  {
   "cell_type": "code",
   "execution_count": 33,
   "metadata": {},
   "outputs": [],
   "source": [
    "# test\n",
    "random_array = np.random.randint(0, 10, size=5)\n",
    "assert np.array_equal(diff(random_array), np.diff(random_array)), \"Difference mismatch for random array\"\n",
    "assert np.array_equal(diff(np.zeros(5)), np.diff(np.zeros(5))), \"Difference mismatch for zeros\"\n",
    "assert np.array_equal(diff(np.ones(5)), np.diff(np.ones(5))), \"Difference mismatch for ones\"\n"
   ]
  },
  {
   "cell_type": "markdown",
   "metadata": {},
   "source": [
    "## [vstack](https://numpy.org/doc/stable/reference/generated/numpy.vstack.html)\n",
    "- Don't have to fully develop the condition, think about broadcast. "
   ]
  },
  {
   "cell_type": "code",
   "execution_count": 34,
   "metadata": {},
   "outputs": [
    {
     "data": {
      "text/plain": [
       "array([[1, 1, 1, 1, 1],\n",
       "       [0, 1, 2, 3, 4]])"
      ]
     },
     "execution_count": 34,
     "metadata": {},
     "output_type": "execute_result"
    }
   ],
   "source": [
    "# example\n",
    "np.vstack((ones(5), arange(5)))"
   ]
  },
  {
   "cell_type": "code",
   "execution_count": 35,
   "metadata": {},
   "outputs": [],
   "source": [
    "def vstack(a_i, b_i):\n",
    "    return where(tensor([True, False])[:, None], a_i, b_i)"
   ]
  },
  {
   "cell_type": "code",
   "execution_count": 36,
   "metadata": {},
   "outputs": [
    {
     "data": {
      "text/plain": [
       "array([[1, 1, 1, 1, 1],\n",
       "       [0, 1, 2, 3, 4]])"
      ]
     },
     "execution_count": 36,
     "metadata": {},
     "output_type": "execute_result"
    }
   ],
   "source": [
    "vstack(ones(5), arange(5))"
   ]
  },
  {
   "cell_type": "code",
   "execution_count": 37,
   "metadata": {},
   "outputs": [],
   "source": [
    "# test\n",
    "length1 = np.random.randint(1, 10)\n",
    "assert np.array_equal(vstack(ones(length1), arange(length1)), np.vstack((ones(length1), arange(length1)))), \"vstack mismatch for ones and arange with random length\"\n",
    "\n",
    "length2 = np.random.randint(1, 10)\n",
    "assert np.array_equal(vstack(arange(length2), arange(length2)), np.vstack((arange(length2), arange(length2)))), \"vstack mismatch for two aranges with same random length\"\n",
    "\n",
    "length3 = np.random.randint(1, 10)\n",
    "assert np.array_equal(vstack(arange(length3), ones(length3)), np.vstack((arange(length3), ones(length3)))), \"vstack mismatch for arange and ones with random length\"\n"
   ]
  },
  {
   "cell_type": "markdown",
   "metadata": {},
   "source": [
    "## [roll](https://numpy.org/doc/stable/reference/generated/numpy.roll.html)\n",
    "- My first implementation used direct `where` to deal with index i-1, which works but it's iterative programming thinking. Get used to think in tensors. \n",
    "- Whenever you want to deal with special case, the tranditonal if-else kicks in, think again in tensor form.\n",
    "- Remember the goal of these exercises is not to implement functions, but to twist the brain enough to learn the pattern of tensor ops. "
   ]
  },
  {
   "cell_type": "code",
   "execution_count": 38,
   "metadata": {},
   "outputs": [
    {
     "data": {
      "text/plain": [
       "array([1, 2, 3, 4, 0])"
      ]
     },
     "execution_count": 38,
     "metadata": {},
     "output_type": "execute_result"
    }
   ],
   "source": [
    "# example\n",
    "np.roll(arange(5), shift=-1)  # negative, shift left"
   ]
  },
  {
   "cell_type": "code",
   "execution_count": 39,
   "metadata": {},
   "outputs": [],
   "source": [
    "# v1\n",
    "# def roll(a_i):\n",
    "#     i = a_i.shape[0]\n",
    "#     return a_i[where(arange(i) == i - 1, 0, arange(i) + 1)]\n",
    "\n",
    "\n",
    "# v2\n",
    "def roll(a_i):\n",
    "    i = a_i.shape[0]\n",
    "    return a_i[(arange(i) + 1) % i]"
   ]
  },
  {
   "cell_type": "code",
   "execution_count": 40,
   "metadata": {},
   "outputs": [
    {
     "data": {
      "text/plain": [
       "array([1, 2, 3, 4, 0])"
      ]
     },
     "execution_count": 40,
     "metadata": {},
     "output_type": "execute_result"
    }
   ],
   "source": [
    "roll(arange(5))"
   ]
  },
  {
   "cell_type": "code",
   "execution_count": 41,
   "metadata": {},
   "outputs": [],
   "source": [
    "# test\n",
    "# fmt: off\n",
    "test_arrays = [\n",
    "    (np.random.randint(1, 10), arange, \"arange with random length\"),\n",
    "    (np.random.randint(1, 10), lambda x: np.random.randint(0, 100, size=x), \"random array with random length\"),\n",
    "    (10, lambda x: np.linspace(0, 1, x), \"linspace array with fixed length\")\n",
    "]\n",
    "\n",
    "for length, array_func, description in test_arrays:\n",
    "    test_array = array_func(length)\n",
    "    assert np.array_equal(roll(test_array), np.roll(test_array, shift=-1)), f\"roll mismatch for {description}: {length}, roll: {roll(test_array)}, np.roll: {np.roll(test_array, shift=1)}\"\n",
    "# fmt: on"
   ]
  },
  {
   "cell_type": "markdown",
   "metadata": {},
   "source": [
    "## [flip](https://numpy.org/doc/stable/reference/generated/numpy.flip.html)\n",
    "- For each position, original index and the flipped index sums to `i - 1`. "
   ]
  },
  {
   "cell_type": "code",
   "execution_count": 42,
   "metadata": {},
   "outputs": [
    {
     "data": {
      "text/plain": [
       "array([4, 3, 2, 1, 0])"
      ]
     },
     "execution_count": 42,
     "metadata": {},
     "output_type": "execute_result"
    }
   ],
   "source": [
    "# example\n",
    "np.flip(arange(5))"
   ]
  },
  {
   "cell_type": "code",
   "execution_count": 43,
   "metadata": {},
   "outputs": [],
   "source": [
    "def flip(a_i):\n",
    "    i = a_i.shape[0]\n",
    "    return a_i[i - 1 - arange(i)]"
   ]
  },
  {
   "cell_type": "code",
   "execution_count": 44,
   "metadata": {},
   "outputs": [
    {
     "data": {
      "text/plain": [
       "array([4, 3, 2, 1, 0])"
      ]
     },
     "execution_count": 44,
     "metadata": {},
     "output_type": "execute_result"
    }
   ],
   "source": [
    "flip(arange(5))"
   ]
  },
  {
   "cell_type": "code",
   "execution_count": 45,
   "metadata": {},
   "outputs": [],
   "source": [
    "# test\n",
    "# fmt: off\n",
    "test_arrays_flip = [\n",
    "    (arange(5), \"arange with fixed length\"),\n",
    "    (np.random.randint(0, 100, size=10), \"random array with fixed length\"),\n",
    "    (np.array([0, -1, -2, -3, 0, 1, 2, 3, 0]), \"array with negative numbers and zeros\")\n",
    "]\n",
    "\n",
    "for test_array, description in test_arrays_flip:\n",
    "    assert np.array_equal(flip(test_array), np.flip(test_array)), f\"flip mismatch for {description}: {test_array}, flip: {flip(test_array)}, np.flip: {np.flip(test_array)}\"\n",
    "# fmt: on"
   ]
  },
  {
   "cell_type": "markdown",
   "metadata": {},
   "source": [
    "## [compress](https://numpy.org/doc/stable/reference/generated/numpy.compress.html)"
   ]
  },
  {
   "cell_type": "code",
   "execution_count": 46,
   "metadata": {},
   "outputs": [
    {
     "data": {
      "text/plain": [
       "array([0, 2])"
      ]
     },
     "execution_count": 46,
     "metadata": {},
     "output_type": "execute_result"
    }
   ],
   "source": [
    "# example\n",
    "np.compress(condition=tensor([True, False, True, False]), a=arange(4))"
   ]
  },
  {
   "cell_type": "code",
   "execution_count": null,
   "metadata": {},
   "outputs": [],
   "source": [
    "def compress(condition_i, a_i):\n",
    "    pass"
   ]
  }
 ],
 "metadata": {
  "kernelspec": {
   "display_name": "lab",
   "language": "python",
   "name": "python3"
  },
  "language_info": {
   "codemirror_mode": {
    "name": "ipython",
    "version": 3
   },
   "file_extension": ".py",
   "mimetype": "text/x-python",
   "name": "python",
   "nbconvert_exporter": "python",
   "pygments_lexer": "ipython3",
   "version": "3.10.13"
  }
 },
 "nbformat": 4,
 "nbformat_minor": 2
}
